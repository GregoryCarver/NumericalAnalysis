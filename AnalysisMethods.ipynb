{
  "nbformat": 4,
  "nbformat_minor": 0,
  "metadata": {
    "colab": {
      "name": "AnalysisMethods.ipynb",
      "provenance": [],
      "collapsed_sections": [
        "xmE3EkvBfbSI",
        "kXSZ1EyY_Gcd",
        "g6hjAgabKxCm",
        "1DUmYya6ZrR5"
      ],
      "authorship_tag": "ABX9TyOT+Jwuyahgg5gGkh9pUJ9j",
      "include_colab_link": true
    },
    "kernelspec": {
      "name": "python3",
      "display_name": "Python 3"
    },
    "language_info": {
      "name": "python"
    }
  },
  "cells": [
    {
      "cell_type": "markdown",
      "metadata": {
        "id": "view-in-github",
        "colab_type": "text"
      },
      "source": [
        "<a href=\"https://colab.research.google.com/github/GregoryCarver/NumericalAnalysis/blob/main/AnalysisMethods.ipynb\" target=\"_parent\"><img src=\"https://colab.research.google.com/assets/colab-badge.svg\" alt=\"Open In Colab\"/></a>"
      ]
    },
    {
      "cell_type": "markdown",
      "metadata": {
        "id": "Phu_TrjgbvXw"
      },
      "source": [
        "# Numerical Analysis Methods"
      ]
    },
    {
      "cell_type": "code",
      "metadata": {
        "id": "Vjeip1i3W7ZH"
      },
      "source": [
        "import autograd.numpy as np\n",
        "from autograd import grad, jacobian\n",
        "from numpy import linalg as la"
      ],
      "execution_count": null,
      "outputs": []
    },
    {
      "cell_type": "markdown",
      "metadata": {
        "id": "rGab4wJufVfQ"
      },
      "source": [
        "## Iterative Methods"
      ]
    },
    {
      "cell_type": "markdown",
      "metadata": {
        "id": "xmE3EkvBfbSI"
      },
      "source": [
        "##### __Newton Method__ for systems of nonlinear equations:"
      ]
    },
    {
      "cell_type": "code",
      "metadata": {
        "id": "rmrTHIpmdpqS"
      },
      "source": [
        "def NewtonSys(currSystem, initialEstimate, tolerance, maxIterations):\n",
        "  currError = tolerance + 1\n",
        "  iterationCount = 0\n",
        "  myJac = jacobian(currSystem)\n",
        "  currEstimate = initialEstimate\n",
        "\n",
        "  while currError >= tolerance and iterationCount < maxIterations:\n",
        "    iterationCount = iterationCount + 1\n",
        "    delta = -(la.inv(myJac(currEstimate)).dot(currSystem(currEstimate)))\n",
        "    currEstimate = currEstimate + delta\n",
        "    currError = la.norm(delta)\n",
        "  \n",
        "  if iterationCount >= maxIterations and currError > tolerance:\n",
        "    print(\"Reached max iteration count without converging.\")\n",
        "    return\n",
        "\n",
        "  return currEstimate"
      ],
      "execution_count": null,
      "outputs": []
    },
    {
      "cell_type": "markdown",
      "metadata": {
        "id": "kXSZ1EyY_Gcd"
      },
      "source": [
        "##### __Broyden Method__ for systems of nonlinear equations:"
      ]
    },
    {
      "cell_type": "code",
      "metadata": {
        "id": "06kunbIn_Od-"
      },
      "source": [
        "def BroydenSys(currSystem, initialEstimate, tolerance, maxIterations):\n",
        "  currError = tolerance + 1\n",
        "  iterationCount = 0\n",
        "  currBroydenMatrix = np.array([[1.0, 0.0], [0.0, 1.0]])\n",
        "  #Used for testing\n",
        "  #currBroydenMatrix = jacobian(currSystem)(initialEstimate)\n",
        "  currEstimate = initialEstimate\n",
        "\n",
        "  while currError >= tolerance and iterationCount < maxIterations:\n",
        "    iterationCount = iterationCount + 1\n",
        "    oldSystemSolution = currSystem(currEstimate)\n",
        "    delta = -(la.inv(currBroydenMatrix).dot(oldSystemSolution))\n",
        "    #print(\"delta: {}\".format(delta))\n",
        "    currEstimate = currEstimate + delta\n",
        "    #print(\"currEstimate: {}\".format(currEstimate))\n",
        "    #print(\"currFunctSol: {}\".format(np.outer(currSystem(currEstimate), delta)))\n",
        "    #functDiff = currSystem(currEstimate) - oldSystemSolution\n",
        "    currBroydenMatrix = currBroydenMatrix + (np.outer(currSystem(currEstimate), delta) / delta.dot(delta))\n",
        "    #print(\"currBroydenMatrix: {}\".format(currBroydenMatrix))\n",
        "    currError = la.norm(delta)\n",
        "\n",
        "  if iterationCount >= maxIterations and currError > tolerance:\n",
        "    print(\"Reached max iteration count without converging.\")\n",
        "    return\n",
        "\n",
        "  return currEstimate"
      ],
      "execution_count": null,
      "outputs": []
    },
    {
      "cell_type": "markdown",
      "metadata": {
        "id": "g6hjAgabKxCm"
      },
      "source": [
        "##### __Aitken Method__ for root finding(may need to revise, not tested):"
      ]
    },
    {
      "cell_type": "code",
      "metadata": {
        "id": "mRsxaeGDKvtB"
      },
      "source": [
        "def Aitken(currFunction, initialEstimate, tolerance, maxIterations):\n",
        "  currError = tolerance + 1\n",
        "  iterationCount = 0\n",
        "  currEstimate = initialEstimate\n",
        "\n",
        "  while currError >= tolerance and iterationCount < maxIterations:\n",
        "    iterationCount = iterationCount + 1\n",
        "    solution = currFunction(currEstimate)\n",
        "    secSolution = currFunction(solution)\n",
        "    newEstimate = (((currEstimate * secSolution) - solution**2) / (secSolution - (2 * solution) + currEstimate))\n",
        "    print(newEstimate)\n",
        "    currError = abs(currEstimate - newEstimate)\n",
        "    currEstimate = newEstimate\n",
        "  \n",
        "  if iterationCount >= maxIterations and currError > tolerance:\n",
        "    print(\"Reached max iteration count without converging.\")\n",
        "    return\n",
        "\n",
        "  return currEstimate"
      ],
      "execution_count": null,
      "outputs": []
    },
    {
      "cell_type": "markdown",
      "metadata": {
        "id": "1DUmYya6ZrR5"
      },
      "source": [
        "##### __Horner Method__ for polynomial evaluation:"
      ]
    },
    {
      "cell_type": "code",
      "metadata": {
        "id": "DIiDDu5BZ3jC"
      },
      "source": [
        "#Takes a vector of coefficients and a point to evaluate the polynomial at. Returns the result and a vector of new coefficients\n",
        "def Horner(coefficients, givenPoint):\n",
        "  #Degree of the polynomial\n",
        "  degree = coefficients.size\n",
        "  newCoefficients = np.zeros(degree)\n",
        "  newCoefficients[0] = coefficients[0]\n",
        "  for j in range(1, degree):\n",
        "    newCoefficients[j] = coefficients[j] + (newCoefficients[j - 1] * givenPoint)\n",
        "  return [newCoefficients[degree - 1], newCoefficients[0:degree]]"
      ],
      "execution_count": null,
      "outputs": []
    },
    {
      "cell_type": "markdown",
      "metadata": {
        "id": "olUyI93hffSD"
      },
      "source": [
        "##### __Newton-Horner Method__ for root finding(need to fix):"
      ]
    },
    {
      "cell_type": "code",
      "metadata": {
        "id": "eKBjIqVmkVRo"
      },
      "source": [
        "######################################################Returning with extra zero\n",
        "def NewtonHorner(coefficients, initialEstimate, tolerance, maxIterations):\n",
        "  degree = coefficients.size\n",
        "  roots = np.zeros(degree)\n",
        "  iterationCounts = np.zeros(degree)\n",
        "  currCoefficients = coefficients\n",
        "  \n",
        "  for i in range(0, degree - 1):\n",
        "    currError = tolerance + 1\n",
        "    iterationCount = 0\n",
        "    currEstimate = initialEstimate\n",
        "\n",
        "    while currError >= tolerance and iterationCount < maxIterations:\n",
        "      iterationCount = iterationCount + 1\n",
        "      resultOne, newCoefficients = Horner(currCoefficients, currEstimate)\n",
        "      resultTwo, newCoefficients = Horner(newCoefficients, currEstimate)\n",
        "      newEstimate = currEstimate - (resultOne / resultTwo)\n",
        "      currError = np.abs(newEstimate - currEstimate)\n",
        "      currEstimate = newEstimate\n",
        "    \n",
        "    if iterationCount >= maxIterations and currError > tolerance:\n",
        "      print(\"Reached max iteration count without converging.\")\n",
        "      return\n",
        "\n",
        "    result, currCoefficients = Horner(currCoefficients, currEstimate)\n",
        "    roots[i] = currEstimate\n",
        "    iterationCounts[i] = iterationCount\n",
        "\n",
        "  return [roots, iterationCounts]"
      ],
      "execution_count": null,
      "outputs": []
    },
    {
      "cell_type": "markdown",
      "metadata": {
        "id": "Fv2_tJpEkMRx"
      },
      "source": [
        "##### __Composite Midpoint Quadrature Formula__: uses midpoints of subintervals for integration"
      ]
    },
    {
      "cell_type": "code",
      "metadata": {
        "id": "mOJCWTeekp-V"
      },
      "source": [
        "def MidpointC(leftBound, rightBound, intervalCount, currFunction):\n",
        "  intervalSize = (rightBound - leftBound) / intervalCount\n",
        "  midpoints = np.linspace(leftBound, rightBound, intervalCount)\n",
        "  functionMP = currFunction(midpoints) * np.ones(intervalCount)\n",
        "  return intervalSize * sum(functionMP)"
      ],
      "execution_count": null,
      "outputs": []
    },
    {
      "cell_type": "markdown",
      "metadata": {
        "id": "Oi7VzxLz0ZFP"
      },
      "source": [
        "##### __Gauss LU Factorization__: decomposes a matrix into an upper(U) matrix and lower(L) matrix with diagonal elements equal to 1"
      ]
    },
    {
      "cell_type": "code",
      "metadata": {
        "id": "hYPb9r7a2-o7"
      },
      "source": [
        "def GaussLU(mat):\n",
        "  height = len(mat)\n",
        "  width = len(mat[0])\n",
        "  if height != width:\n",
        "    print(\"Error: mat is not a square matrix!\")\n",
        "  else:\n",
        "    for k in range(1, height):\n",
        "      for i in range(k + 1, height + 1):\n",
        "        mat[i][k] = mat[i][k] / mat[k][k]\n",
        "        if mat[k][k] == 0:\n",
        "          print(\"Error: Null diagonal element!\")\n",
        "        j = range(k + 1, height + 1)\n",
        "        mat[i][j] = mat[i][j] - (mat[i][k] * mat[k][j])\n",
        "  return mat"
      ],
      "execution_count": null,
      "outputs": []
    },
    {
      "cell_type": "markdown",
      "metadata": {
        "id": "qUhkGrNEi9iu"
      },
      "source": [
        "## Utility Functions"
      ]
    },
    {
      "cell_type": "markdown",
      "metadata": {
        "id": "UYieIqgrkHlW"
      },
      "source": [
        "Function to store the system of equations:"
      ]
    },
    {
      "cell_type": "code",
      "metadata": {
        "id": "Fzcs87RTjDW6"
      },
      "source": [
        "#Used for systems\n",
        "def FunctionSystem(x):\n",
        "  return np.array([(x[0]**2) + (x[1]**2) - 1,\n",
        "                   np.sin(np.pi * x[0] / 2) + (x[1]**3)])\n",
        "\n",
        "#Used for single functions\n",
        "def CurrFunction(x):\n",
        "  return x**2"
      ],
      "execution_count": null,
      "outputs": []
    },
    {
      "cell_type": "markdown",
      "metadata": {
        "id": "YIkhUIg_rRbO"
      },
      "source": [
        "## Test Ground"
      ]
    },
    {
      "cell_type": "code",
      "metadata": {
        "colab": {
          "base_uri": "https://localhost:8080/"
        },
        "id": "sbgdyDI5rZ-u",
        "outputId": "6e7b3c4a-595f-4406-ac51-ff3ca42618c8"
      },
      "source": [
        "mynum = np.array([2.0, -12.0])\n",
        "\n",
        "#myAns = BroydenSys(FunctionSystem, mynum, 0.00001, 100)\n",
        "#myAns = Aitken(CurrFunction, 1.44, 0.001, 100)\n",
        "#myAns = Horner(mynum, 4.0)\n",
        "#myAns = NewtonHorner(mynum, 5.8, 0.000000001, 100)\n",
        "#myAns = MidpointC(0.0, 3.0, 500, CurrFunction)\n",
        "\n",
        "myAns"
      ],
      "execution_count": null,
      "outputs": [
        {
          "output_type": "execute_result",
          "data": {
            "text/plain": [
              "9.0000009000001"
            ]
          },
          "metadata": {},
          "execution_count": 131
        }
      ]
    }
  ]
}